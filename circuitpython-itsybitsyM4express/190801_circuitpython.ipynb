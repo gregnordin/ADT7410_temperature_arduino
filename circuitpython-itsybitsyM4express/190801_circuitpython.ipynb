{
 "cells": [
  {
   "cell_type": "code",
   "execution_count": 8,
   "metadata": {},
   "outputs": [],
   "source": [
    "import datetime\n",
    "from pathlib import Path\n",
    "import time\n",
    "\n",
    "import numpy as np\n",
    "import pandas as pd\n",
    "import matplotlib.pyplot as plt\n",
    "%matplotlib inline\n",
    "\n",
    "import serial"
   ]
  },
  {
   "cell_type": "code",
   "execution_count": 2,
   "metadata": {},
   "outputs": [
    {
     "data": {
      "text/html": [
       "<div>\n",
       "<style scoped>\n",
       "    .dataframe tbody tr th:only-of-type {\n",
       "        vertical-align: middle;\n",
       "    }\n",
       "\n",
       "    .dataframe tbody tr th {\n",
       "        vertical-align: top;\n",
       "    }\n",
       "\n",
       "    .dataframe thead th {\n",
       "        text-align: right;\n",
       "    }\n",
       "</style>\n",
       "<table border=\"1\" class=\"dataframe\">\n",
       "  <thead>\n",
       "    <tr style=\"text-align: right;\">\n",
       "      <th></th>\n",
       "      <th>Time_s</th>\n",
       "      <th>Temp_C</th>\n",
       "      <th>delta_time_s</th>\n",
       "    </tr>\n",
       "  </thead>\n",
       "  <tbody>\n",
       "    <tr>\n",
       "      <th>0</th>\n",
       "      <td>140.265</td>\n",
       "      <td>24.5469</td>\n",
       "      <td>0.000</td>\n",
       "    </tr>\n",
       "    <tr>\n",
       "      <th>1</th>\n",
       "      <td>140.988</td>\n",
       "      <td>24.5625</td>\n",
       "      <td>0.723</td>\n",
       "    </tr>\n",
       "    <tr>\n",
       "      <th>2</th>\n",
       "      <td>141.710</td>\n",
       "      <td>24.5156</td>\n",
       "      <td>1.445</td>\n",
       "    </tr>\n",
       "    <tr>\n",
       "      <th>3</th>\n",
       "      <td>142.431</td>\n",
       "      <td>24.5313</td>\n",
       "      <td>2.166</td>\n",
       "    </tr>\n",
       "    <tr>\n",
       "      <th>4</th>\n",
       "      <td>143.393</td>\n",
       "      <td>24.5703</td>\n",
       "      <td>3.128</td>\n",
       "    </tr>\n",
       "  </tbody>\n",
       "</table>\n",
       "</div>"
      ],
      "text/plain": [
       "    Time_s   Temp_C  delta_time_s\n",
       "0  140.265  24.5469         0.000\n",
       "1  140.988  24.5625         0.723\n",
       "2  141.710  24.5156         1.445\n",
       "3  142.431  24.5313         2.166\n",
       "4  143.393  24.5703         3.128"
      ]
     },
     "execution_count": 2,
     "metadata": {},
     "output_type": "execute_result"
    }
   ],
   "source": [
    "column_names = [\n",
    "    'Time_s',\n",
    "    'Temp_C',\n",
    "]\n",
    "\n",
    "df = pd.read_csv('data1.txt', sep=',', names=column_names)\n",
    "df['delta_time_s'] = df['Time_s'] - df['Time_s'][0]\n",
    "df.head()"
   ]
  },
  {
   "cell_type": "code",
   "execution_count": 3,
   "metadata": {},
   "outputs": [
    {
     "data": {
      "text/plain": [
       "<matplotlib.axes._subplots.AxesSubplot at 0x117e65828>"
      ]
     },
     "execution_count": 3,
     "metadata": {},
     "output_type": "execute_result"
    },
    {
     "data": {
      "image/png": "[encoded data removed]",
      "text/plain": [
       "<Figure size 432x288 with 1 Axes>"
      ]
     },
     "metadata": {
      "needs_background": "light"
     },
     "output_type": "display_data"
    }
   ],
   "source": [
    "df.plot.scatter('delta_time_s', 'Temp_C')"
   ]
  },
  {
   "cell_type": "code",
   "execution_count": 4,
   "metadata": {},
   "outputs": [
    {
     "data": {
      "text/html": [
       "<div>\n",
       "<style scoped>\n",
       "    .dataframe tbody tr th:only-of-type {\n",
       "        vertical-align: middle;\n",
       "    }\n",
       "\n",
       "    .dataframe tbody tr th {\n",
       "        vertical-align: top;\n",
       "    }\n",
       "\n",
       "    .dataframe thead th {\n",
       "        text-align: right;\n",
       "    }\n",
       "</style>\n",
       "<table border=\"1\" class=\"dataframe\">\n",
       "  <thead>\n",
       "    <tr style=\"text-align: right;\">\n",
       "      <th></th>\n",
       "      <th>Time_s</th>\n",
       "      <th>Temp_C</th>\n",
       "      <th>delta_time_s</th>\n",
       "      <th>diff_btwn_times</th>\n",
       "    </tr>\n",
       "  </thead>\n",
       "  <tbody>\n",
       "    <tr>\n",
       "      <th>0</th>\n",
       "      <td>140.265</td>\n",
       "      <td>24.5469</td>\n",
       "      <td>0.000</td>\n",
       "      <td>NaN</td>\n",
       "    </tr>\n",
       "    <tr>\n",
       "      <th>1</th>\n",
       "      <td>140.988</td>\n",
       "      <td>24.5625</td>\n",
       "      <td>0.723</td>\n",
       "      <td>0.723</td>\n",
       "    </tr>\n",
       "    <tr>\n",
       "      <th>2</th>\n",
       "      <td>141.710</td>\n",
       "      <td>24.5156</td>\n",
       "      <td>1.445</td>\n",
       "      <td>0.722</td>\n",
       "    </tr>\n",
       "    <tr>\n",
       "      <th>3</th>\n",
       "      <td>142.431</td>\n",
       "      <td>24.5313</td>\n",
       "      <td>2.166</td>\n",
       "      <td>0.721</td>\n",
       "    </tr>\n",
       "    <tr>\n",
       "      <th>4</th>\n",
       "      <td>143.393</td>\n",
       "      <td>24.5703</td>\n",
       "      <td>3.128</td>\n",
       "      <td>0.962</td>\n",
       "    </tr>\n",
       "  </tbody>\n",
       "</table>\n",
       "</div>"
      ],
      "text/plain": [
       "    Time_s   Temp_C  delta_time_s  diff_btwn_times\n",
       "0  140.265  24.5469         0.000              NaN\n",
       "1  140.988  24.5625         0.723            0.723\n",
       "2  141.710  24.5156         1.445            0.722\n",
       "3  142.431  24.5313         2.166            0.721\n",
       "4  143.393  24.5703         3.128            0.962"
      ]
     },
     "execution_count": 4,
     "metadata": {},
     "output_type": "execute_result"
    }
   ],
   "source": [
    "df['diff_btwn_times'] = df['delta_time_s'].diff()\n",
    "df.head()"
   ]
  },
  {
   "cell_type": "code",
   "execution_count": 5,
   "metadata": {},
   "outputs": [
    {
     "data": {
      "text/plain": [
       "<matplotlib.axes._subplots.AxesSubplot at 0x1182b1fd0>"
      ]
     },
     "execution_count": 5,
     "metadata": {},
     "output_type": "execute_result"
    },
    {
     "data": {
      "image/png": "[encoded data removed]",
      "text/plain": [
       "<Figure size 432x288 with 1 Axes>"
      ]
     },
     "metadata": {
      "needs_background": "light"
     },
     "output_type": "display_data"
    }
   ],
   "source": [
    "df.plot.scatter('delta_time_s', 'diff_btwn_times')"
   ]
  },
  {
   "cell_type": "code",
   "execution_count": 6,
   "metadata": {},
   "outputs": [
    {
     "name": "stdout",
     "output_type": "stream",
     "text": [
      "\u001b[34m\u001b[43m/dev/tty.Bluetooth-Incoming-Port\u001b[m\u001b[m \u001b[34m\u001b[43m/dev/tty.usbmodem14211\u001b[m\u001b[m\n"
     ]
    }
   ],
   "source": [
    "!ls /dev/tty.*"
   ]
  },
  {
   "cell_type": "code",
   "execution_count": 17,
   "metadata": {},
   "outputs": [
    {
     "name": "stdout",
     "output_type": "stream",
     "text": [
      "0 b'3277.91,24.1797\\r\\n' <class 'bytes'> <class 'str'> 3277.91,24.1797\n",
      "\n",
      "1 b'3278.63,24.2188\\r\\n' <class 'bytes'> <class 'str'> 3278.63,24.2188\n",
      "\n",
      "2 b'3279.59,24.2109\\r\\n' <class 'bytes'> <class 'str'> 3279.59,24.2109\n",
      "\n",
      "3 b'3280.31,24.1953\\r\\n' <class 'bytes'> <class 'str'> 3280.31,24.1953\n",
      "\n",
      "4 b'3281.04,24.1953\\r\\n' <class 'bytes'> <class 'str'> 3281.04,24.1953\n",
      "\n",
      "5 b'3281.76,24.1953\\r\\n' <class 'bytes'> <class 'str'> 3281.76,24.1953\n",
      "\n",
      "6 b'3282.48,24.1953\\r\\n' <class 'bytes'> <class 'str'> 3282.48,24.1953\n",
      "\n",
      "7 b'3283.2,24.1719\\r\\n' <class 'bytes'> <class 'str'> 3283.2,24.1719\n",
      "\n",
      "8 b'3283.92,24.2031\\r\\n' <class 'bytes'> <class 'str'> 3283.92,24.2031\n",
      "\n",
      "9 b'3284.89,24.1719\\r\\n' <class 'bytes'> <class 'str'> 3284.89,24.1719\n",
      "\n",
      "[0, datetime.datetime(2019, 8, 1, 16, 45, 37, 549220), '3277.91,24.1797']\n",
      "[1, datetime.datetime(2019, 8, 1, 16, 45, 38, 331020), '3278.63,24.2188']\n",
      "[2, datetime.datetime(2019, 8, 1, 16, 45, 39, 54315), '3279.59,24.2109']\n",
      "[3, datetime.datetime(2019, 8, 1, 16, 45, 39, 776563), '3280.31,24.1953']\n",
      "[4, datetime.datetime(2019, 8, 1, 16, 45, 40, 499150), '3281.04,24.1953']\n",
      "[5, datetime.datetime(2019, 8, 1, 16, 45, 41, 222388), '3281.76,24.1953']\n",
      "[6, datetime.datetime(2019, 8, 1, 16, 45, 41, 946002), '3282.48,24.1953']\n",
      "[7, datetime.datetime(2019, 8, 1, 16, 45, 42, 669558), '3283.2,24.1719']\n",
      "[8, datetime.datetime(2019, 8, 1, 16, 45, 43, 634292), '3283.92,24.2031']\n",
      "[9, datetime.datetime(2019, 8, 1, 16, 45, 44, 356196), '3284.89,24.1719']\n"
     ]
    }
   ],
   "source": [
    "ucontroller = serial.Serial('/dev/tty.usbmodem14211', 115200)\n",
    "time.sleep(0.25)\n",
    "ucontroller.flushInput()\n",
    "time.sleep(0.25)\n",
    "\n",
    "max_counts = 10\n",
    "counter = 0\n",
    "lines = []\n",
    "while True:\n",
    "    if counter < max_counts:\n",
    "        line = ucontroller.readline()\n",
    "        print(counter, line, type(line), type(line.decode()), line.decode())\n",
    "        lines.append( [counter, datetime.datetime.now(), line.decode().strip()])\n",
    "        counter += 1\n",
    "    else:\n",
    "        break\n",
    "\n",
    "for line in lines:\n",
    "    print(line)\n",
    "    \n",
    "ucontroller.close()"
   ]
  },
  {
   "cell_type": "markdown",
   "metadata": {},
   "source": [
    "# Data set 2"
   ]
  },
  {
   "cell_type": "code",
   "execution_count": 13,
   "metadata": {},
   "outputs": [
    {
     "data": {
      "text/html": [
       "<div>\n",
       "<style scoped>\n",
       "    .dataframe tbody tr th:only-of-type {\n",
       "        vertical-align: middle;\n",
       "    }\n",
       "\n",
       "    .dataframe tbody tr th {\n",
       "        vertical-align: top;\n",
       "    }\n",
       "\n",
       "    .dataframe thead th {\n",
       "        text-align: right;\n",
       "    }\n",
       "</style>\n",
       "<table border=\"1\" class=\"dataframe\">\n",
       "  <thead>\n",
       "    <tr style=\"text-align: right;\">\n",
       "      <th></th>\n",
       "      <th>DateTime</th>\n",
       "      <th>Time_s</th>\n",
       "      <th>Temp_C</th>\n",
       "      <th>DeltaTime_s</th>\n",
       "      <th>delta_time_s</th>\n",
       "      <th>diff_btwn_times</th>\n",
       "    </tr>\n",
       "  </thead>\n",
       "  <tbody>\n",
       "    <tr>\n",
       "      <th>0</th>\n",
       "      <td>2019-08-01 16:51:11.993378</td>\n",
       "      <td>3611.85</td>\n",
       "      <td>24.0937</td>\n",
       "      <td>0.000000</td>\n",
       "      <td>0.00</td>\n",
       "      <td>NaN</td>\n",
       "    </tr>\n",
       "    <tr>\n",
       "      <th>1</th>\n",
       "      <td>2019-08-01 16:51:12.959921</td>\n",
       "      <td>3612.57</td>\n",
       "      <td>24.0937</td>\n",
       "      <td>0.966543</td>\n",
       "      <td>0.72</td>\n",
       "      <td>0.72</td>\n",
       "    </tr>\n",
       "    <tr>\n",
       "      <th>2</th>\n",
       "      <td>2019-08-01 16:51:13.681808</td>\n",
       "      <td>3613.53</td>\n",
       "      <td>24.0859</td>\n",
       "      <td>1.688430</td>\n",
       "      <td>1.68</td>\n",
       "      <td>0.96</td>\n",
       "    </tr>\n",
       "    <tr>\n",
       "      <th>3</th>\n",
       "      <td>2019-08-01 16:51:14.405152</td>\n",
       "      <td>3614.25</td>\n",
       "      <td>24.0937</td>\n",
       "      <td>2.411774</td>\n",
       "      <td>2.40</td>\n",
       "      <td>0.72</td>\n",
       "    </tr>\n",
       "    <tr>\n",
       "      <th>4</th>\n",
       "      <td>2019-08-01 16:51:15.127804</td>\n",
       "      <td>3614.98</td>\n",
       "      <td>24.0859</td>\n",
       "      <td>3.134426</td>\n",
       "      <td>3.13</td>\n",
       "      <td>0.73</td>\n",
       "    </tr>\n",
       "  </tbody>\n",
       "</table>\n",
       "</div>"
      ],
      "text/plain": [
       "                    DateTime   Time_s   Temp_C  DeltaTime_s  delta_time_s  \\\n",
       "0 2019-08-01 16:51:11.993378  3611.85  24.0937     0.000000          0.00   \n",
       "1 2019-08-01 16:51:12.959921  3612.57  24.0937     0.966543          0.72   \n",
       "2 2019-08-01 16:51:13.681808  3613.53  24.0859     1.688430          1.68   \n",
       "3 2019-08-01 16:51:14.405152  3614.25  24.0937     2.411774          2.40   \n",
       "4 2019-08-01 16:51:15.127804  3614.98  24.0859     3.134426          3.13   \n",
       "\n",
       "   diff_btwn_times  \n",
       "0              NaN  \n",
       "1             0.72  \n",
       "2             0.96  \n",
       "3             0.72  \n",
       "4             0.73  "
      ]
     },
     "execution_count": 13,
     "metadata": {},
     "output_type": "execute_result"
    }
   ],
   "source": [
    "mydateparser = lambda x: pd.datetime.strptime(x, \"%Y-%m-%d %H:%M:%S.%f\")\n",
    "\n",
    "column_names = [\n",
    "    'DateTime',\n",
    "    'Time_s',\n",
    "    'Temp_C',\n",
    "]\n",
    "\n",
    "datafile = \"data2.csv\"\n",
    "\n",
    "df2 = pd.read_csv(datafile, sep=',', names=column_names, \n",
    "                 parse_dates=['DateTime'], date_parser= mydateparser\n",
    "                )\n",
    "df2['DeltaTime_s'] = (df2['DateTime'] - df2['DateTime'][0])/np.timedelta64(1,'s')\n",
    "df2['delta_time_s'] = df2['Time_s'] - df2['Time_s'][0]\n",
    "df2['diff_btwn_times'] = df2['delta_time_s'].diff()\n",
    "df2.head()"
   ]
  },
  {
   "cell_type": "code",
   "execution_count": 14,
   "metadata": {},
   "outputs": [
    {
     "data": {
      "text/plain": [
       "<matplotlib.axes._subplots.AxesSubplot at 0x118acd208>"
      ]
     },
     "execution_count": 14,
     "metadata": {},
     "output_type": "execute_result"
    },
    {
     "data": {
      "image/png": "[encoded data removed]",
      "text/plain": [
       "<Figure size 432x288 with 1 Axes>"
      ]
     },
     "metadata": {
      "needs_background": "light"
     },
     "output_type": "display_data"
    }
   ],
   "source": [
    "df2.plot.scatter('delta_time_s', 'Temp_C')"
   ]
  },
  {
   "cell_type": "code",
   "execution_count": 15,
   "metadata": {},
   "outputs": [
    {
     "data": {
      "text/plain": [
       "(0, 6)"
      ]
     },
     "execution_count": 15,
     "metadata": {},
     "output_type": "execute_result"
    },
    {
     "data": {
      "image/png": "[encoded data removed]",
      "text/plain": [
       "<Figure size 432x288 with 1 Axes>"
      ]
     },
     "metadata": {
      "needs_background": "light"
     },
     "output_type": "display_data"
    }
   ],
   "source": [
    "ax = df2.plot.scatter('delta_time_s', 'diff_btwn_times')\n",
    "ax.grid()\n",
    "ax.set_ylim(0, 6)"
   ]
  },
  {
   "cell_type": "markdown",
   "metadata": {},
   "source": [
    "# Data set 3\n",
    "\n",
    "2.2k pull-up resistors added to SDA and SCK microcontroller lines"
   ]
  },
  {
   "cell_type": "code",
   "execution_count": 11,
   "metadata": {},
   "outputs": [
    {
     "name": "stdout",
     "output_type": "stream",
     "text": [
      "0 2019-08-01 17:10:08.972864,4746.53,24.1094\n",
      "\n",
      "10 2019-08-01 17:10:16.928820,4754.46,24.1094\n",
      "\n",
      "20 2019-08-01 17:10:28.499575,4766.02,24.125\n",
      "\n",
      "30 2019-08-01 17:10:40.555802,4778.04,24.125\n",
      "\n",
      "40 2019-08-01 17:10:49.476054,4786.95,24.1172\n",
      "\n",
      "50 2019-08-01 17:10:59.845595,4796.57,24.1094\n",
      "\n",
      "60 2019-08-01 17:11:09.731413,4805.47,24.0781\n",
      "\n",
      "70 2019-08-01 17:11:16.960256,4814.37,24.0937\n",
      "\n",
      "80 2019-08-01 17:11:28.050594,4825.44,24.125\n",
      "\n",
      "90 2019-08-01 17:11:36.005552,4833.38,24.1016\n",
      "\n",
      "100 2019-08-01 17:11:44.444346,4841.32,24.0937\n",
      "\n",
      "110 2019-08-01 17:11:53.365772,4850.47,24.1016\n",
      "\n",
      "120 2019-08-01 17:12:00.838753,4858.17,24.1172\n",
      "\n",
      "130 2019-08-01 17:12:09.036057,4866.35,24.1016\n",
      "\n",
      "140 2019-08-01 17:12:16.749143,4874.05,24.1016\n",
      "\n",
      "150 2019-08-01 17:12:24.707212,4881.99,24.1016\n",
      "\n",
      "160 2019-08-01 17:12:32.181198,4889.21,24.125\n",
      "\n",
      "170 2019-08-01 17:12:41.105541,4898.35,24.1094\n",
      "\n",
      "180 2019-08-01 17:12:49.063331,4906.05,24.1172\n",
      "\n",
      "190 2019-08-01 17:12:56.296172,4913.51,24.0781\n",
      "\n",
      "200 2019-08-01 17:13:04.011209,4921.21,24.1016\n",
      "\n",
      "210 2019-08-01 17:13:13.172455,4930.35,24.1016\n",
      "\n",
      "220 2019-08-01 17:13:21.368006,4938.53,24.0781\n",
      "\n",
      "230 2019-08-01 17:13:30.770951,4947.91,24.0937\n",
      "\n",
      "240 2019-08-01 17:13:39.450042,4956.57,24.0937\n",
      "\n",
      "250 2019-08-01 17:13:50.297007,4966.68,24.0937\n",
      "\n",
      "260 2019-08-01 17:13:58.013095,4975.1,24.0859\n",
      "\n",
      "270 2019-08-01 17:14:07.655642,4984.48,24.0469\n",
      "\n",
      "280 2019-08-01 17:14:16.094133,4992.42,24.0313\n",
      "\n",
      "290 2019-08-01 17:14:24.289244,5001.32,24.0625\n",
      "\n",
      "300 2019-08-01 17:14:32.490414,5008.78,24.0469\n",
      "\n",
      "310 2019-08-01 17:14:40.684736,5017.44,24.0391\n",
      "\n",
      "320 2019-08-01 17:14:48.640427,5025.38,24.0156\n",
      "\n",
      "330 2019-08-01 17:15:00.454590,5037.41,24.0313\n",
      "\n",
      "340 2019-08-01 17:15:11.301363,5048.24,24.0547\n",
      "\n",
      "350 2019-08-01 17:15:20.946855,5057.38,24.0156\n",
      "\n",
      "360 2019-08-01 17:15:32.037247,5068.21,24.0078\n",
      "\n",
      "370 2019-08-01 17:15:41.677066,5078.55,23.9922\n",
      "\n",
      "380 2019-08-01 17:15:50.356162,5087.21,24.0234\n",
      "\n",
      "390 2019-08-01 17:16:00.000661,5095.87,24.0234\n",
      "\n",
      "400 2019-08-01 17:16:10.365124,5107.18,23.9688\n",
      "\n",
      "410 2019-08-01 17:16:20.010333,5116.08,23.9844\n",
      "\n",
      "420 2019-08-01 17:16:27.722938,5124.26,23.9844\n",
      "\n",
      "430 2019-08-01 17:16:36.882900,5133.65,23.9766\n",
      "\n",
      "440 2019-08-01 17:16:46.528624,5142.31,23.9453\n",
      "\n",
      "450 2019-08-01 17:16:55.204788,5151.93,23.9688\n",
      "\n",
      "460 2019-08-01 17:17:03.401255,5160.11,23.9375\n",
      "\n",
      "470 2019-08-01 17:17:13.043298,5169.73,23.9531\n",
      "\n",
      "480 2019-08-01 17:17:21.240439,5177.91,23.9219\n",
      "\n",
      "490 2019-08-01 17:17:30.158665,5185.85,23.9609\n",
      "\n",
      "500 2019-08-01 17:17:41.249444,5197.88,23.9531\n",
      "\n",
      "510 2019-08-01 17:17:50.890596,5206.78,23.9453\n",
      "\n",
      "520 2019-08-01 17:18:01.981123,5218.57,23.9453\n",
      "\n",
      "530 2019-08-01 17:18:11.625477,5228.19,23.9297\n",
      "\n",
      "540 2019-08-01 17:18:21.748454,5238.3,23.9141\n",
      "\n",
      "550 2019-08-01 17:18:29.945508,5246.48,23.9375\n",
      "\n",
      "560 2019-08-01 17:18:39.830243,5255.86,23.9219\n",
      "\n",
      "570 2019-08-01 17:18:50.677112,5267.17,23.9219\n",
      "\n",
      "580 2019-08-01 17:18:58.148230,5274.38,23.9453\n",
      "\n",
      "590 2019-08-01 17:19:06.346393,5282.81,23.9219\n",
      "\n",
      "600 2019-08-01 17:19:15.024973,5291.47,23.9688\n",
      "\n",
      "610 2019-08-01 17:19:23.461977,5299.89,23.9453\n",
      "\n",
      "620 2019-08-01 17:19:30.935062,5307.35,23.9297\n",
      "\n",
      "630 2019-08-01 17:19:39.613479,5316.01,23.875\n",
      "\n",
      "640 2019-08-01 17:19:48.535234,5324.43,23.9141\n",
      "\n",
      "650 2019-08-01 17:20:01.794788,5337.42,23.9297\n",
      "\n",
      "660 2019-08-01 17:20:10.714977,5346.33,23.9141\n",
      "\n",
      "670 2019-08-01 17:20:18.669042,5354.51,23.9453\n",
      "\n",
      "680 2019-08-01 17:20:28.072080,5363.65,23.9531\n",
      "\n",
      "690 2019-08-01 17:20:39.159823,5374.72,23.9531\n",
      "\n",
      "700 2019-08-01 17:20:46.870691,5383.14,23.9219\n",
      "\n",
      "710 2019-08-01 17:20:55.550294,5391.8,23.8828\n",
      "\n",
      "720 2019-08-01 17:21:04.229085,5400.46,23.8672\n",
      "\n",
      "730 2019-08-01 17:21:12.184322,5408.4,23.9219\n",
      "\n",
      "740 2019-08-01 17:21:21.346117,5417.54,23.9297\n",
      "\n",
      "750 2019-08-01 17:21:30.750652,5426.21,23.8906\n",
      "\n",
      "760 2019-08-01 17:21:39.424301,5435.35,23.8828\n",
      "\n",
      "770 2019-08-01 17:21:48.827493,5444.97,23.8828\n",
      "\n",
      "780 2019-08-01 17:21:58.711194,5453.88,23.8828\n",
      "\n",
      "790 2019-08-01 17:22:09.077825,5465.19,23.8984\n",
      "\n",
      "800 2019-08-01 17:22:18.961410,5475.05,23.8672\n",
      "\n",
      "810 2019-08-01 17:22:28.122803,5483.71,23.8984\n",
      "\n",
      "820 2019-08-01 17:22:35.837159,5491.89,23.8828\n",
      "\n",
      "830 2019-08-01 17:22:44.274655,5500.31,23.8984\n",
      "\n",
      "840 2019-08-01 17:22:52.956051,5508.25,23.875\n",
      "\n",
      "850 2019-08-01 17:23:02.356072,5518.11,23.8828\n",
      "\n",
      "860 2019-08-01 17:23:10.309204,5526.05,23.875\n",
      "\n",
      "870 2019-08-01 17:23:17.783433,5533.75,23.8672\n",
      "\n",
      "880 2019-08-01 17:23:26.462954,5542.41,23.8594\n",
      "\n",
      "890 2019-08-01 17:23:34.660461,5550.35,23.8984\n",
      "\n",
      "900 2019-08-01 17:23:43.579298,5559.5,23.875\n",
      "\n",
      "910 2019-08-01 17:23:51.534407,5567.44,23.875\n",
      "\n",
      "920 2019-08-01 17:24:02.383518,5578.27,23.8594\n",
      "\n",
      "930 2019-08-01 17:24:13.472464,5589.34,23.8984\n",
      "\n",
      "940 2019-08-01 17:24:21.187079,5596.79,23.875\n",
      "\n",
      "950 2019-08-01 17:24:29.142560,5604.97,23.8906\n",
      "\n",
      "960 2019-08-01 17:24:38.303110,5613.64,23.8906\n",
      "\n",
      "970 2019-08-01 17:24:48.187334,5623.98,23.875\n",
      "\n",
      "980 2019-08-01 17:24:56.625776,5632.17,23.8594\n",
      "\n",
      "990 2019-08-01 17:25:06.508679,5642.27,23.875\n",
      "\n"
     ]
    }
   ],
   "source": [
    "max_counts = 1000\n",
    "\n",
    "datafile = \"data3.csv\"\n",
    " \n",
    "ucontroller = serial.Serial('/dev/tty.usbmodem14211', 115200)\n",
    "time.sleep(0.25)\n",
    "ucontroller.flushInput()\n",
    "time.sleep(0.25)\n",
    "\n",
    "counter = 0\n",
    "while True:\n",
    "    if counter < max_counts:\n",
    "        line = ucontroller.readline()\n",
    "        dt = datetime.datetime.now()\n",
    "        line = line.decode().strip()\n",
    "        data_string = f\"{dt},{line}\\n\"\n",
    "        with open(datafile, \"a\") as f:\n",
    "            f.write(data_string)\n",
    "        if counter % 10 == 0:\n",
    "            print(counter, data_string)\n",
    "        counter += 1\n",
    "    else:\n",
    "        break\n",
    "\n",
    "ucontroller.close()\n"
   ]
  },
  {
   "cell_type": "code",
   "execution_count": 2,
   "metadata": {},
   "outputs": [
    {
     "data": {
      "text/html": [
       "<div>\n",
       "<style scoped>\n",
       "    .dataframe tbody tr th:only-of-type {\n",
       "        vertical-align: middle;\n",
       "    }\n",
       "\n",
       "    .dataframe tbody tr th {\n",
       "        vertical-align: top;\n",
       "    }\n",
       "\n",
       "    .dataframe thead th {\n",
       "        text-align: right;\n",
       "    }\n",
       "</style>\n",
       "<table border=\"1\" class=\"dataframe\">\n",
       "  <thead>\n",
       "    <tr style=\"text-align: right;\">\n",
       "      <th></th>\n",
       "      <th>DateTime</th>\n",
       "      <th>Time_s</th>\n",
       "      <th>Temp_C</th>\n",
       "      <th>DeltaTime_s</th>\n",
       "      <th>delta_time_s</th>\n",
       "      <th>diff_btwn_times</th>\n",
       "    </tr>\n",
       "  </thead>\n",
       "  <tbody>\n",
       "    <tr>\n",
       "      <th>0</th>\n",
       "      <td>2019-08-01 17:10:08.972864</td>\n",
       "      <td>4746.53</td>\n",
       "      <td>24.1094</td>\n",
       "      <td>0.000000</td>\n",
       "      <td>0.00</td>\n",
       "      <td>NaN</td>\n",
       "    </tr>\n",
       "    <tr>\n",
       "      <th>1</th>\n",
       "      <td>2019-08-01 17:10:09.695875</td>\n",
       "      <td>4747.25</td>\n",
       "      <td>24.1094</td>\n",
       "      <td>0.723011</td>\n",
       "      <td>0.72</td>\n",
       "      <td>0.72</td>\n",
       "    </tr>\n",
       "    <tr>\n",
       "      <th>2</th>\n",
       "      <td>2019-08-01 17:10:10.418979</td>\n",
       "      <td>4747.97</td>\n",
       "      <td>24.1484</td>\n",
       "      <td>1.446115</td>\n",
       "      <td>1.44</td>\n",
       "      <td>0.72</td>\n",
       "    </tr>\n",
       "    <tr>\n",
       "      <th>3</th>\n",
       "      <td>2019-08-01 17:10:11.143082</td>\n",
       "      <td>4748.69</td>\n",
       "      <td>24.1484</td>\n",
       "      <td>2.170218</td>\n",
       "      <td>2.16</td>\n",
       "      <td>0.72</td>\n",
       "    </tr>\n",
       "    <tr>\n",
       "      <th>4</th>\n",
       "      <td>2019-08-01 17:10:12.108340</td>\n",
       "      <td>4749.41</td>\n",
       "      <td>24.1641</td>\n",
       "      <td>3.135476</td>\n",
       "      <td>2.88</td>\n",
       "      <td>0.72</td>\n",
       "    </tr>\n",
       "  </tbody>\n",
       "</table>\n",
       "</div>"
      ],
      "text/plain": [
       "                    DateTime   Time_s   Temp_C  DeltaTime_s  delta_time_s  \\\n",
       "0 2019-08-01 17:10:08.972864  4746.53  24.1094     0.000000          0.00   \n",
       "1 2019-08-01 17:10:09.695875  4747.25  24.1094     0.723011          0.72   \n",
       "2 2019-08-01 17:10:10.418979  4747.97  24.1484     1.446115          1.44   \n",
       "3 2019-08-01 17:10:11.143082  4748.69  24.1484     2.170218          2.16   \n",
       "4 2019-08-01 17:10:12.108340  4749.41  24.1641     3.135476          2.88   \n",
       "\n",
       "   diff_btwn_times  \n",
       "0              NaN  \n",
       "1             0.72  \n",
       "2             0.72  \n",
       "3             0.72  \n",
       "4             0.72  "
      ]
     },
     "execution_count": 2,
     "metadata": {},
     "output_type": "execute_result"
    }
   ],
   "source": [
    "mydateparser = lambda x: pd.datetime.strptime(x, \"%Y-%m-%d %H:%M:%S.%f\")\n",
    "\n",
    "column_names = [\n",
    "    'DateTime',\n",
    "    'Time_s',\n",
    "    'Temp_C',\n",
    "]\n",
    "\n",
    "datafile = \"data3.csv\"\n",
    "\n",
    "df3 = pd.read_csv(datafile, sep=',', names=column_names, \n",
    "                 parse_dates=['DateTime'], date_parser= mydateparser\n",
    "                )\n",
    "df3['DeltaTime_s'] = (df3['DateTime'] - df3['DateTime'][0])/np.timedelta64(1,'s')\n",
    "df3['delta_time_s'] = df3['Time_s'] - df3['Time_s'][0]\n",
    "df3['diff_btwn_times'] = df3['delta_time_s'].diff()\n",
    "df3.head()"
   ]
  },
  {
   "cell_type": "code",
   "execution_count": 13,
   "metadata": {},
   "outputs": [
    {
     "data": {
      "image/png": "[encoded data removed]",
      "text/plain": [
       "<Figure size 432x288 with 1 Axes>"
      ]
     },
     "metadata": {
      "needs_background": "light"
     },
     "output_type": "display_data"
    }
   ],
   "source": [
    "ax = df3.plot.scatter('delta_time_s', 'Temp_C')\n",
    "ax.grid()\n",
    "ax.set_xlabel(\"Time (s)\")\n",
    "ax.set_ylabel(\"Temperature (C)\")\n",
    "ax.set_title(\"Temperature, GN Office, 8/1/19\")\n",
    "plt.savefig('data3_temp_vs_time.png')"
   ]
  },
  {
   "cell_type": "code",
   "execution_count": 15,
   "metadata": {},
   "outputs": [
    {
     "data": {
      "image/png": "[encoded data removed]",
      "text/plain": [
       "<Figure size 432x288 with 1 Axes>"
      ]
     },
     "metadata": {
      "needs_background": "light"
     },
     "output_type": "display_data"
    }
   ],
   "source": [
    "ax = df3.plot.scatter('delta_time_s', 'diff_btwn_times')\n",
    "ax.grid()\n",
    "ax.set_xlabel(\"Time (s)\")\n",
    "ax.set_ylabel(\"Time Between Measurements (s)\")\n",
    "ax.set_ylim(0, 6)\n",
    "ax.set_title(\"Sample Interval\")\n",
    "plt.savefig('data3_diffbetweentimes_vs_time.png')"
   ]
  },
  {
   "cell_type": "code",
   "execution_count": null,
   "metadata": {},
   "outputs": [],
   "source": []
  }
 ],
 "metadata": {
  "kernelspec": {
   "display_name": "py36_anaconda_root",
   "language": "python",
   "name": "py36_anaconda_root"
  },
  "language_info": {
   "codemirror_mode": {
    "name": "ipython",
    "version": 3
   },
   "file_extension": ".py",
   "mimetype": "text/x-python",
   "name": "python",
   "nbconvert_exporter": "python",
   "pygments_lexer": "ipython3",
   "version": "3.6.8"
  }
 },
 "nbformat": 4,
 "nbformat_minor": 2
}
