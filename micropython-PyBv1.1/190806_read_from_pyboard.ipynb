{
 "cells": [
  {
   "cell_type": "code",
   "execution_count": 11,
   "metadata": {},
   "outputs": [],
   "source": [
    "import serial\n",
    "import datetime"
   ]
  },
  {
   "cell_type": "code",
   "execution_count": 2,
   "metadata": {},
   "outputs": [
    {
     "name": "stdout",
     "output_type": "stream",
     "text": [
      "\u001b[34m\u001b[43m/dev/tty.Bluetooth-Incoming-Port\u001b[m\u001b[m \u001b[34m\u001b[43m/dev/tty.usbmodem14212\u001b[m\u001b[m\n"
     ]
    }
   ],
   "source": [
    "! ls /dev/tty.*"
   ]
  },
  {
   "cell_type": "markdown",
   "metadata": {},
   "source": [
    "# First try\n",
    "\n",
    "See my repository, `micropython_pyboard`.\n",
    "\n",
    "When I make a change in the PyBoard code I have to eject it from Finder, unplug the USB, plug USB back in, and then the new code is executing on the PyBoard."
   ]
  },
  {
   "cell_type": "markdown",
   "metadata": {},
   "source": [
    "## PyBoard code"
   ]
  },
  {
   "cell_type": "markdown",
   "metadata": {},
   "source": [
    "    import micropython\n",
    "    micropython.alloc_emergency_exception_buf(100)\n",
    "\n",
    "    import pyb\n",
    "    import micropython\n",
    "\n",
    "    class Heartbeat(object):\n",
    "\n",
    "        def __init__(self):\n",
    "            self.tick = 0\n",
    "            self.led = pyb.LED(4) # 4 = Blue\n",
    "            tim = pyb.Timer(4)\n",
    "            tim.init(freq=10)\n",
    "            tim.callback(self.heartbeat_cb)\n",
    "\n",
    "        def heartbeat_cb(self, tim):\n",
    "            if self.tick <= 3:\n",
    "                self.led.toggle()\n",
    "            self.tick = (self.tick + 1) % 10\n",
    "\n",
    "    class serial_speed_test(object):\n",
    "\n",
    "        def __init__(self, freq_Hz):\n",
    "            self.tick = 0\n",
    "            self.tick_ready = False\n",
    "            self.micros_timer = micros_timer.counter()\n",
    "            self.freq_Hz = freq_Hz\n",
    "            tim1 = pyb.Timer(1)\n",
    "            tim1.init(freq=freq_Hz)\n",
    "            tim1.callback(self.serial_speed_test_cb)\n",
    "\n",
    "        def serial_speed_test_cb(self, tim1):\n",
    "            self.micros_timer = micros_timer.counter()\n",
    "            self.tick_ready = True\n",
    "            #print(micros_timer.counter(), ',', 40*self.tick)\n",
    "            self.tick = (self.tick + 1) % 100\n",
    "\n",
    "    micropython.alloc_emergency_exception_buf(100)\n",
    "\n",
    "    micros_timer = pyb.Timer(2, prescaler=83, period=0x3ffffff)\n",
    "\n",
    "    usb = pyb.USB_VCP()\n",
    "    Heartbeat()\n",
    "    sst = serial_speed_test(2)\n",
    "    write_flag = False\n",
    "\n",
    "    while True:\n",
    "        if usb.any():\n",
    "            input = usb.readline()\n",
    "            usb.write(input)\n",
    "            if input.startswith('start'):\n",
    "                write_flag = True\n",
    "            elif input.startswith('stop'):\n",
    "                write_flag = False\n",
    "        if write_flag:\n",
    "            if sst.tick_ready:\n",
    "                s = \"%d,%d\\n\" % (sst.tick, sst.micros_timer)\n",
    "                usb.write(s)\n",
    "                sst.tick_ready = False\n"
   ]
  },
  {
   "cell_type": "markdown",
   "metadata": {},
   "source": [
    "## Communicate over USB serial"
   ]
  },
  {
   "cell_type": "code",
   "execution_count": 19,
   "metadata": {},
   "outputs": [
    {
     "name": "stdout",
     "output_type": "stream",
     "text": [
      "0.051561832427978516 start\n",
      "0.10205578804016113 62,42838144\n",
      "0.15441679954528809 63,43038144\n",
      "0.24419188499450684 64,43238144\n",
      "0.4416360855102539 65,43438144\n",
      "0.6398649215698242 66,43638144\n",
      "0.8402459621429443 67,43838144\n",
      "1.0417258739471436 68,44038144\n",
      "1.2433960437774658 69,44238144\n",
      "1.4411258697509766 70,44438144\n",
      "1.641869068145752 71,44638144\n",
      "1.8431668281555176 72,44838144\n",
      "2.042341709136963 73,45038144\n",
      "2.2398269176483154 74,45238144\n",
      "2.4444479942321777 75,45438144\n",
      "2.643293857574463 76,45638144\n",
      "2.840578079223633 77,45838144\n",
      "3.0442097187042236 78,46038144\n",
      "3.2444889545440674 79,46238144\n",
      "3.444139003753662 80,46438144\n",
      "3.641921043395996 81,46638144\n",
      "3.8400399684906006 82,46838144\n",
      "4.04105806350708 83,47038144\n",
      "4.240850925445557 84,47238144\n",
      "4.443668842315674 85,47438144\n",
      "4.5895538330078125 stop\n"
     ]
    }
   ],
   "source": [
    "with serial.Serial('/dev/tty.usbmodem14212', 115200) as ser:\n",
    "    ser.write('start\\n'.encode())\n",
    "    start_time = time.time()\n",
    "    for i in range(25):\n",
    "        time.sleep(0.05)\n",
    "        print(time.time() - start_time, ser.readline().decode().strip())\n",
    "    ser.write('stop\\n'.encode())\n",
    "    print(time.time() - start_time, ser.readline().decode().strip())"
   ]
  },
  {
   "cell_type": "code",
   "execution_count": null,
   "metadata": {},
   "outputs": [],
   "source": []
  }
 ],
 "metadata": {
  "kernelspec": {
   "display_name": "py37-use_this_one",
   "language": "python",
   "name": "py37"
  },
  "language_info": {
   "codemirror_mode": {
    "name": "ipython",
    "version": 3
   },
   "file_extension": ".py",
   "mimetype": "text/x-python",
   "name": "python",
   "nbconvert_exporter": "python",
   "pygments_lexer": "ipython3",
   "version": "3.7.3"
  }
 },
 "nbformat": 4,
 "nbformat_minor": 2
}
